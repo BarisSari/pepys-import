{
 "cells": [
  {
   "cell_type": "markdown",
   "metadata": {},
   "source": [
    "#### Add the path of modules of the project to sys"
   ]
  },
  {
   "cell_type": "code",
   "execution_count": 1,
   "metadata": {
    "pycharm": {
     "is_executing": false
    }
   },
   "outputs": [],
   "source": [
    "import os\n",
    "import sys\n",
    "\n",
    "module_path = os.path.abspath(os.path.join('..'))\n",
    "if module_path not in sys.path:\n",
    "    sys.path.append(module_path)"
   ]
  },
  {
   "cell_type": "markdown",
   "metadata": {
    "collapsed": true,
    "pycharm": {
     "is_executing": false
    }
   },
   "source": [
    "#### Import necessary libraries"
   ]
  },
  {
   "cell_type": "code",
   "execution_count": 2,
   "metadata": {},
   "outputs": [],
   "source": [
    "import pathlib\n",
    "\n",
    "from pepys_import.core.formats.repl_file import REPFile\n",
    "from pepys_import.core.store.data_store import DataStore\n",
    "from pepys_import.resolvers.command_line_resolver import CommandLineResolver"
   ]
  },
  {
   "cell_type": "markdown",
   "metadata": {},
   "source": [
    "#### Declaring global variables"
   ]
  },
  {
   "cell_type": "code",
   "execution_count": 3,
   "metadata": {},
   "outputs": [],
   "source": [
    "RESOURCES_PATH = os.path.join('..', 'repl_files')\n",
    "\n",
    "data_store = DataStore(\"\", \"\", \"\", 0, \"sqlite_datastore.db\", db_type='sqlite',\n",
    "                      missing_data_resolver=CommandLineResolver())\n",
    "\n",
    "file_path = os.path.join(RESOURCES_PATH, \"missing_platform.rep\")\n",
    "rep = REPFile(str(file_path))"
   ]
  },
  {
   "cell_type": "code",
   "execution_count": 4,
   "metadata": {},
   "outputs": [
    {
     "name": "stdout",
     "output_type": "stream",
     "text": [
      "Ok, please provide classification for table 'Datafiles': \n",
      "   1) Add a new classification\n",
      "   2) Cancel import\n",
      "1\n",
      "Please type name of new classification: Private\n",
      "Platform 'SUBJECT' not found. Do you wish to: \n",
      "   1) Add a new platform, titled 'SUBJECT'\n",
      "   2) Cancel import\n",
      "1\n",
      "Ok, adding new platform.\n",
      "Please provide nationality: \n",
      "   1) Add a new nationality\n",
      "   2) Cancel import\n",
      "1\n",
      "Please type name of new nationality: FRANCE\n",
      "Ok, please provide class: \n",
      "   1) Add a new class\n",
      "   2) Cancel import\n",
      "1\n",
      "Please type name of new class: Swan\n",
      "No sensors found for that class. Skipping Sensor add\n",
      "Ok, please provide classification for this platform: \n",
      "   1) Private\n",
      "   2) Add a new classification\n",
      "   3) Cancel import\n",
      "1\n",
      "Input complete. About to create this platform:\n",
      "Name: SUBJECT\n",
      "Nationality: FRANCE\n",
      "Class: Swan\n",
      "Sensors: None\n",
      "Classification: Private\n",
      "Create this platform?: \n",
      "   1) Yes\n",
      "   2) No, make further edits\n",
      "   3) Cancel import\n",
      "1\n",
      "Sensor 'GPS' not found. Do you wish to: \n",
      "   1) Add a new sensor, titled 'GPS'\n",
      "   2) Cancel import\n",
      "1\n",
      "Ok, adding new sensor.\n",
      "Please provide sensor type: \n",
      "   1) Add a new sensor type\n",
      "   2) Cancel import\n",
      "1\n",
      "Please type name of new sensor type: GPS\n",
      "Ok, please provide classification for table 'State': \n",
      "   1) Private\n",
      "   2) Add a new classification\n",
      "   3) Cancel import\n",
      "1\n",
      "Platform 'IAMMISSING' not found. Do you wish to: \n",
      "   1) Add a new platform, titled 'IAMMISSING'\n",
      "   2) Cancel import\n",
      "1\n",
      "Ok, adding new platform.\n",
      "Please provide nationality: \n",
      "   1) FRANCE\n",
      "   2) Add a new nationality\n",
      "   3) Cancel import\n",
      "1\n",
      "Ok, please provide class: \n",
      "   1) Swan\n",
      "   2) Add a new class\n",
      "   3) Cancel import\n",
      "1\n",
      "We have 1 other instances of Swan class. They contain these sensors. Please indicate which you wish to add to IAMMISSING: \n",
      "   1) GPS\n",
      "   2) Cancel import\n",
      "1\n",
      "Ok, please provide classification for this platform: \n",
      "   1) Private\n",
      "   2) Add a new classification\n",
      "   3) Cancel import\n",
      "1\n",
      "Input complete. About to create this platform:\n",
      "Name: IAMMISSING\n",
      "Nationality: FRANCE\n",
      "Class: Swan\n",
      "Sensors: GPS\n",
      "Classification: Private\n",
      "Create this platform?: \n",
      "   1) Yes\n",
      "   2) No, make further edits\n",
      "   3) Cancel import\n",
      "1\n"
     ]
    }
   ],
   "source": [
    "with data_store.session_scope() as session:\n",
    "    # TODO: fix the following line, it gives operational error\n",
    "    datafile = session.add_to_datafile_from_rep(rep.get_data_file_name(), rep.get_data_file_type())\n",
    "    for rep_line in rep.get_lines():\n",
    "        platform = session.add_to_platforms_from_rep(rep_line.get_platform())\n",
    "        sensor = session.add_to_sensors(\"GPS\", platform)\n",
    "        session.add_to_states_from_rep(rep_line.get_timestamp(), datafile, sensor, rep_line.get_latitude(), rep_line.get_longitude(), rep_line.get_heading(), rep_line.get_speed())"
   ]
  }
 ],
 "metadata": {
  "kernelspec": {
   "display_name": "Python 3",
   "language": "python",
   "name": "python3"
  },
  "language_info": {
   "codemirror_mode": {
    "name": "ipython",
    "version": 3
   },
   "file_extension": ".py",
   "mimetype": "text/x-python",
   "name": "python",
   "nbconvert_exporter": "python",
   "pygments_lexer": "ipython3",
   "version": "3.7.3"
  },
  "pycharm": {
   "stem_cell": {
    "cell_type": "raw",
    "source": [],
    "metadata": {
     "collapsed": false
    }
   }
  }
 },
 "nbformat": 4,
 "nbformat_minor": 1
}